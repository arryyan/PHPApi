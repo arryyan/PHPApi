{
  "nbformat": 4,
  "nbformat_minor": 0,
  "metadata": {
    "colab": {
      "name": "dokumentasi.ipynb",
      "provenance": [],
      "collapsed_sections": []
    },
    "kernelspec": {
      "name": "python3",
      "display_name": "Python 3"
    }
  },
  "cells": [
    {
      "cell_type": "markdown",
      "metadata": {
        "id": "pJ_tfxcJGF3h",
        "colab_type": "text"
      },
      "source": [
        "# ANDROID\n",
        "## “TUGAS REST API & RETROFIT”\n",
        "\n",
        "Nama : Aryan Nasikhul Amin\n",
        "NIM : 1941727014\n",
        "\n",
        "REST API\n",
        "\n",
        "TES POST\n",
        "\n",
        "![alt text](https://i.ibb.co/HnkYNt4/1.jpg) \n",
        "![alt text](https://i.ibb.co/mNtm6Gr/2.jpg) \n",
        "\n",
        "TES GET\n",
        "\n",
        "![alt text](https://i.ibb.co/ckQ89MM/3.jpg) \n",
        "![alt text](https://i.ibb.co/VWZGHSd/4.jpg) \n",
        "\n",
        "TES PUT\n",
        "\n",
        "![alt text](https://i.ibb.co/SNpxgb3/5.jpg) \n",
        "![alt text](https://i.ibb.co/zVVbpxF/6.jpg) \n",
        "\n",
        "TES DELETE\n",
        "\n",
        "![alt text](https://i.ibb.co/99YfDs0/7.jpg) \n",
        "![alt text](https://i.ibb.co/JC9smhD/8.jpg) \n",
        "\n",
        "\n",
        "---\n",
        "\n",
        "\n",
        " \n"
      ]
    }
  ]
}